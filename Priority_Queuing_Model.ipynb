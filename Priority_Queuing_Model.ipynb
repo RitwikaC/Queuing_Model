{
 "cells": [
  {
   "cell_type": "code",
   "execution_count": 1,
   "metadata": {},
   "outputs": [
    {
     "name": "stdout",
     "output_type": "stream",
     "text": [
      "lowest value:1488894432.3571215\n",
      "Configuration for lowest value:(8, 1)\n"
     ]
    }
   ],
   "source": [
    "#to find the factorial of a number\n",
    "def fact(n):\n",
    "    z=1\n",
    "    while n>=1:\n",
    "        z=z*n\n",
    "        n=n-1\n",
    "    return z\n",
    "\n",
    "#to define the steady state probability of 0 customers in the system as per equation (7):\n",
    "def p_0(rho,C):\n",
    "    p_val=0\n",
    "    for i in range (0,C,1):\n",
    "        p_val = p_val+((rho**i)/fact(i))\n",
    "    for j in range (C,56+1,1):\n",
    "        p_val=p_val+((rho**j)/(fact(C)*(C**(j-C))))\n",
    "    p_1=1/p_val\n",
    "    return p_1                 \n",
    "\n",
    "#to define the p_n(rho) value as per equation (8):      \n",
    "def p(n,rho,C):\n",
    "    P_0=p_0(rho,C)\n",
    "    r=(rho**n/(C**(n-C))*fact(C))*P_0\n",
    "    return r\n",
    "\n",
    "#to evaluate the summations with given function in between the given ranges:\n",
    "def sum_of_p(lower,upper,rho,C):\n",
    "    sum_p=0\n",
    "    for i in range(lower,upper+1,1):\n",
    "        sum_p=sum_p+p(i,rho,C)\n",
    "    return sum_p\n",
    "\n",
    "\n",
    "def sum_of_p1(lower,upper,rho,C):\n",
    "    sum_p=0\n",
    "    for i in range(lower,upper+1,1):\n",
    "        sum_p=sum_p+((i-C)*p(i,rho,C))\n",
    "    return sum_p\n",
    "\n",
    "#1. objective function required to evaluate the total number of affordable servers and number of machines that can be kept in \n",
    "# queue to be attended before we decide to send them for outsourcing.\n",
    "def optimize_function(C,k):\n",
    "    t1bar=27*(sum_of_p1(C,k+C,rho/9,C))/lamda           #overall average of the mean waiting times of 1st highest priority class \n",
    "    t2bar=27*(sum_of_p1(C,k+C,4*rho/9,C))/(4*lamda)     #overall average of the mean waiting times of first 2 highest priority classes\n",
    "    t3bar=27*(sum_of_p1(C,k+C,27*rho/9,C))/(27*lamda)   #overall average of the mean waiting times of first 3 highest priority classes\n",
    "    t1=t1bar                                          #mean waiting time for the 1st priority class\n",
    "    t2=(t2bar-(t1/4))*(4/3)                           #mean waiting time for the 2nd priority class\n",
    "    t3=(27*t3bar/23)-(4*t2/23)                        #mean waiting time for the 3rd priority class\n",
    "    p1=16700                                          # Expected downtime cost per machine per hour for the 1st priority class\n",
    "    p2=7542.9                                         # Expected downtime cost per machine per hour for the 2nd priority class\n",
    "    p3=931.93                                         # Expected downtime cost per machine per hour for the 3rd priority class\n",
    "    c2=((t1*p1)+(t2*p2)+(t3*p3))/3                    # The mean downtime cost for the system with 3 priority classes\n",
    "    func=(c2*(sum_of_p1(C+1,k+C,rho,C)))+((c_3*(sum_of_p(k+C+1,56,rho,C))*lamda))+0.002*C \n",
    "    return func\n",
    "\n",
    "if __name__ == '__main__':\n",
    "    c_3=100000000                #outsourcing cost\n",
    "    lamda=1/7.158             #arrival rate\n",
    "    rho=0.5252864             #efficiency of the overall system\n",
    "    C_range=range(8,56)        #number of counters possible\n",
    "    lowest_value=float('inf')\n",
    "    result_dict={}\n",
    "    for i in C_range:\n",
    "        for j in range (1,56-i+1):\n",
    "            opt=optimize_function(i,j)\n",
    "            result_dict[opt]=(i,j)\n",
    "            if opt < lowest_value:\n",
    "                lowest_value=opt\n",
    "    print(f'lowest value:{lowest_value}')\n",
    "    print(f'Configuration for lowest value:{result_dict[lowest_value]}')"
   ]
  },
  {
   "cell_type": "code",
   "execution_count": null,
   "metadata": {},
   "outputs": [],
   "source": []
  }
 ],
 "metadata": {
  "kernelspec": {
   "display_name": "Python 3",
   "language": "python",
   "name": "python3"
  },
  "language_info": {
   "codemirror_mode": {
    "name": "ipython",
    "version": 3
   },
   "file_extension": ".py",
   "mimetype": "text/x-python",
   "name": "python",
   "nbconvert_exporter": "python",
   "pygments_lexer": "ipython3",
   "version": "3.7.3"
  }
 },
 "nbformat": 4,
 "nbformat_minor": 2
}
